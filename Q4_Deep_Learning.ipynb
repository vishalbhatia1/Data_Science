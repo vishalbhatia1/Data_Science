{
 "cells": [
  {
   "cell_type": "code",
   "execution_count": 1,
   "metadata": {
    "id": "xVot6OaiFPNo"
   },
   "outputs": [],
   "source": [
    "import numpy as np\n",
    "import pandas as pd\n",
    "import matplotlib.pyplot as plt\n",
    "import seaborn as sns\n",
    "from sklearn.model_selection import train_test_split"
   ]
  },
  {
   "cell_type": "code",
   "execution_count": 2,
   "metadata": {
    "colab": {
     "base_uri": "https://localhost:8080/",
     "height": 221
    },
    "id": "mFReEYO7FZJs",
    "outputId": "55e1e1dd-8796-4200-ce79-c1d952dba5fb"
   },
   "outputs": [
    {
     "data": {
      "text/html": [
       "<div>\n",
       "<style scoped>\n",
       "    .dataframe tbody tr th:only-of-type {\n",
       "        vertical-align: middle;\n",
       "    }\n",
       "\n",
       "    .dataframe tbody tr th {\n",
       "        vertical-align: top;\n",
       "    }\n",
       "\n",
       "    .dataframe thead th {\n",
       "        text-align: right;\n",
       "    }\n",
       "</style>\n",
       "<table border=\"1\" class=\"dataframe\">\n",
       "  <thead>\n",
       "    <tr style=\"text-align: right;\">\n",
       "      <th></th>\n",
       "      <th>Number of times pregnant</th>\n",
       "      <th>glucose concentration</th>\n",
       "      <th>blood pressure</th>\n",
       "      <th>Triceps thickness</th>\n",
       "      <th>insulin level</th>\n",
       "      <th>Body mass index</th>\n",
       "      <th>Diabetes pedigree function</th>\n",
       "      <th>Age</th>\n",
       "      <th>Diabetes result</th>\n",
       "    </tr>\n",
       "  </thead>\n",
       "  <tbody>\n",
       "    <tr>\n",
       "      <th>0</th>\n",
       "      <td>6</td>\n",
       "      <td>148</td>\n",
       "      <td>72</td>\n",
       "      <td>35</td>\n",
       "      <td>0</td>\n",
       "      <td>33.6</td>\n",
       "      <td>0.627</td>\n",
       "      <td>50</td>\n",
       "      <td>1</td>\n",
       "    </tr>\n",
       "    <tr>\n",
       "      <th>1</th>\n",
       "      <td>1</td>\n",
       "      <td>85</td>\n",
       "      <td>66</td>\n",
       "      <td>29</td>\n",
       "      <td>0</td>\n",
       "      <td>26.6</td>\n",
       "      <td>0.351</td>\n",
       "      <td>31</td>\n",
       "      <td>0</td>\n",
       "    </tr>\n",
       "    <tr>\n",
       "      <th>2</th>\n",
       "      <td>8</td>\n",
       "      <td>183</td>\n",
       "      <td>64</td>\n",
       "      <td>0</td>\n",
       "      <td>0</td>\n",
       "      <td>23.3</td>\n",
       "      <td>0.672</td>\n",
       "      <td>32</td>\n",
       "      <td>1</td>\n",
       "    </tr>\n",
       "    <tr>\n",
       "      <th>3</th>\n",
       "      <td>1</td>\n",
       "      <td>89</td>\n",
       "      <td>66</td>\n",
       "      <td>23</td>\n",
       "      <td>94</td>\n",
       "      <td>28.1</td>\n",
       "      <td>0.167</td>\n",
       "      <td>21</td>\n",
       "      <td>0</td>\n",
       "    </tr>\n",
       "    <tr>\n",
       "      <th>4</th>\n",
       "      <td>0</td>\n",
       "      <td>137</td>\n",
       "      <td>40</td>\n",
       "      <td>35</td>\n",
       "      <td>168</td>\n",
       "      <td>43.1</td>\n",
       "      <td>2.288</td>\n",
       "      <td>33</td>\n",
       "      <td>1</td>\n",
       "    </tr>\n",
       "  </tbody>\n",
       "</table>\n",
       "</div>"
      ],
      "text/plain": [
       "   Number of times pregnant  glucose concentration  blood pressure  \\\n",
       "0                         6                    148              72   \n",
       "1                         1                     85              66   \n",
       "2                         8                    183              64   \n",
       "3                         1                     89              66   \n",
       "4                         0                    137              40   \n",
       "\n",
       "   Triceps thickness  insulin level  Body mass index  \\\n",
       "0                 35              0             33.6   \n",
       "1                 29              0             26.6   \n",
       "2                  0              0             23.3   \n",
       "3                 23             94             28.1   \n",
       "4                 35            168             43.1   \n",
       "\n",
       "   Diabetes pedigree function  Age  Diabetes result  \n",
       "0                       0.627   50                1  \n",
       "1                       0.351   31                0  \n",
       "2                       0.672   32                1  \n",
       "3                       0.167   21                0  \n",
       "4                       2.288   33                1  "
      ]
     },
     "execution_count": 2,
     "metadata": {},
     "output_type": "execute_result"
    }
   ],
   "source": [
    "data = pd.read_csv(r'E:\\deep_learning.csv')\n",
    "data.head()"
   ]
  },
  {
   "cell_type": "code",
   "execution_count": 3,
   "metadata": {
    "colab": {
     "base_uri": "https://localhost:8080/"
    },
    "id": "5qt_a0RvFZNy",
    "outputId": "ef9765c4-309c-446b-97f3-0da13f57beab"
   },
   "outputs": [
    {
     "data": {
      "text/plain": [
       "(768, 9)"
      ]
     },
     "execution_count": 3,
     "metadata": {},
     "output_type": "execute_result"
    }
   ],
   "source": [
    "data.shape"
   ]
  },
  {
   "cell_type": "code",
   "execution_count": 4,
   "metadata": {
    "colab": {
     "base_uri": "https://localhost:8080/",
     "height": 314
    },
    "id": "yxUzSwogFZRl",
    "outputId": "058531e0-d1cc-4f18-9468-95d9a0289e3c"
   },
   "outputs": [
    {
     "data": {
      "text/html": [
       "<div>\n",
       "<style scoped>\n",
       "    .dataframe tbody tr th:only-of-type {\n",
       "        vertical-align: middle;\n",
       "    }\n",
       "\n",
       "    .dataframe tbody tr th {\n",
       "        vertical-align: top;\n",
       "    }\n",
       "\n",
       "    .dataframe thead th {\n",
       "        text-align: right;\n",
       "    }\n",
       "</style>\n",
       "<table border=\"1\" class=\"dataframe\">\n",
       "  <thead>\n",
       "    <tr style=\"text-align: right;\">\n",
       "      <th></th>\n",
       "      <th>Number of times pregnant</th>\n",
       "      <th>glucose concentration</th>\n",
       "      <th>blood pressure</th>\n",
       "      <th>Triceps thickness</th>\n",
       "      <th>insulin level</th>\n",
       "      <th>Body mass index</th>\n",
       "      <th>Diabetes pedigree function</th>\n",
       "      <th>Age</th>\n",
       "      <th>Diabetes result</th>\n",
       "    </tr>\n",
       "  </thead>\n",
       "  <tbody>\n",
       "    <tr>\n",
       "      <th>count</th>\n",
       "      <td>768.000000</td>\n",
       "      <td>768.000000</td>\n",
       "      <td>768.000000</td>\n",
       "      <td>768.000000</td>\n",
       "      <td>768.000000</td>\n",
       "      <td>768.000000</td>\n",
       "      <td>768.000000</td>\n",
       "      <td>768.000000</td>\n",
       "      <td>768.000000</td>\n",
       "    </tr>\n",
       "    <tr>\n",
       "      <th>mean</th>\n",
       "      <td>3.845052</td>\n",
       "      <td>120.894531</td>\n",
       "      <td>69.105469</td>\n",
       "      <td>20.536458</td>\n",
       "      <td>79.799479</td>\n",
       "      <td>31.992578</td>\n",
       "      <td>0.471876</td>\n",
       "      <td>33.240885</td>\n",
       "      <td>0.348958</td>\n",
       "    </tr>\n",
       "    <tr>\n",
       "      <th>std</th>\n",
       "      <td>3.369578</td>\n",
       "      <td>31.972618</td>\n",
       "      <td>19.355807</td>\n",
       "      <td>15.952218</td>\n",
       "      <td>115.244002</td>\n",
       "      <td>7.884160</td>\n",
       "      <td>0.331329</td>\n",
       "      <td>11.760232</td>\n",
       "      <td>0.476951</td>\n",
       "    </tr>\n",
       "    <tr>\n",
       "      <th>min</th>\n",
       "      <td>0.000000</td>\n",
       "      <td>0.000000</td>\n",
       "      <td>0.000000</td>\n",
       "      <td>0.000000</td>\n",
       "      <td>0.000000</td>\n",
       "      <td>0.000000</td>\n",
       "      <td>0.078000</td>\n",
       "      <td>21.000000</td>\n",
       "      <td>0.000000</td>\n",
       "    </tr>\n",
       "    <tr>\n",
       "      <th>25%</th>\n",
       "      <td>1.000000</td>\n",
       "      <td>99.000000</td>\n",
       "      <td>62.000000</td>\n",
       "      <td>0.000000</td>\n",
       "      <td>0.000000</td>\n",
       "      <td>27.300000</td>\n",
       "      <td>0.243750</td>\n",
       "      <td>24.000000</td>\n",
       "      <td>0.000000</td>\n",
       "    </tr>\n",
       "    <tr>\n",
       "      <th>50%</th>\n",
       "      <td>3.000000</td>\n",
       "      <td>117.000000</td>\n",
       "      <td>72.000000</td>\n",
       "      <td>23.000000</td>\n",
       "      <td>30.500000</td>\n",
       "      <td>32.000000</td>\n",
       "      <td>0.372500</td>\n",
       "      <td>29.000000</td>\n",
       "      <td>0.000000</td>\n",
       "    </tr>\n",
       "    <tr>\n",
       "      <th>75%</th>\n",
       "      <td>6.000000</td>\n",
       "      <td>140.250000</td>\n",
       "      <td>80.000000</td>\n",
       "      <td>32.000000</td>\n",
       "      <td>127.250000</td>\n",
       "      <td>36.600000</td>\n",
       "      <td>0.626250</td>\n",
       "      <td>41.000000</td>\n",
       "      <td>1.000000</td>\n",
       "    </tr>\n",
       "    <tr>\n",
       "      <th>max</th>\n",
       "      <td>17.000000</td>\n",
       "      <td>199.000000</td>\n",
       "      <td>122.000000</td>\n",
       "      <td>99.000000</td>\n",
       "      <td>846.000000</td>\n",
       "      <td>67.100000</td>\n",
       "      <td>2.420000</td>\n",
       "      <td>81.000000</td>\n",
       "      <td>1.000000</td>\n",
       "    </tr>\n",
       "  </tbody>\n",
       "</table>\n",
       "</div>"
      ],
      "text/plain": [
       "       Number of times pregnant  glucose concentration  blood pressure  \\\n",
       "count                768.000000             768.000000      768.000000   \n",
       "mean                   3.845052             120.894531       69.105469   \n",
       "std                    3.369578              31.972618       19.355807   \n",
       "min                    0.000000               0.000000        0.000000   \n",
       "25%                    1.000000              99.000000       62.000000   \n",
       "50%                    3.000000             117.000000       72.000000   \n",
       "75%                    6.000000             140.250000       80.000000   \n",
       "max                   17.000000             199.000000      122.000000   \n",
       "\n",
       "       Triceps thickness  insulin level  Body mass index  \\\n",
       "count         768.000000     768.000000       768.000000   \n",
       "mean           20.536458      79.799479        31.992578   \n",
       "std            15.952218     115.244002         7.884160   \n",
       "min             0.000000       0.000000         0.000000   \n",
       "25%             0.000000       0.000000        27.300000   \n",
       "50%            23.000000      30.500000        32.000000   \n",
       "75%            32.000000     127.250000        36.600000   \n",
       "max            99.000000     846.000000        67.100000   \n",
       "\n",
       "       Diabetes pedigree function         Age  Diabetes result  \n",
       "count                  768.000000  768.000000       768.000000  \n",
       "mean                     0.471876   33.240885         0.348958  \n",
       "std                      0.331329   11.760232         0.476951  \n",
       "min                      0.078000   21.000000         0.000000  \n",
       "25%                      0.243750   24.000000         0.000000  \n",
       "50%                      0.372500   29.000000         0.000000  \n",
       "75%                      0.626250   41.000000         1.000000  \n",
       "max                      2.420000   81.000000         1.000000  "
      ]
     },
     "execution_count": 4,
     "metadata": {},
     "output_type": "execute_result"
    }
   ],
   "source": [
    "data.describe()"
   ]
  },
  {
   "cell_type": "code",
   "execution_count": 5,
   "metadata": {
    "id": "fjilPn2sIOK6"
   },
   "outputs": [],
   "source": [
    "def replace_zero(df, field, target):\n",
    "    mean_by_target = df.loc[df[field] != 0, [field, target]].groupby(target).mean()\n",
    "    data.loc[(df[field] == 0)&(df[target] == 0), field] = mean_by_target.iloc[0][0]\n",
    "    data.loc[(df[field] == 0)&(df[target] == 1), field] = mean_by_target.iloc[1][0]"
   ]
  },
  {
   "cell_type": "code",
   "execution_count": 6,
   "metadata": {
    "id": "ZZpXBr6aIULb"
   },
   "outputs": [],
   "source": [
    "# replacing zeroes\n",
    "zero_cols = ['glucose concentration', 'blood pressure', 'Triceps thickness', 'insulin level', 'Body mass index']\n",
    "for col in zero_cols:   \n",
    "    replace_zero(data, col, 'Diabetes result') "
   ]
  },
  {
   "cell_type": "code",
   "execution_count": 7,
   "metadata": {
    "colab": {
     "base_uri": "https://localhost:8080/"
    },
    "id": "VC6gEh3eI_nq",
    "outputId": "13c55340-cf17-4053-b583-985fa4803034"
   },
   "outputs": [
    {
     "name": "stdout",
     "output_type": "stream",
     "text": [
      "(614, 8)\n",
      "(154, 8)\n",
      "614\n",
      "154\n"
     ]
    }
   ],
   "source": [
    "# split data\n",
    "\n",
    "X = data.drop('Diabetes result', axis=1)\n",
    "y = data['Diabetes result']\n",
    "\n",
    "X_train, X_test, y_train, y_test = train_test_split(X, y, test_size = 0.2,\n",
    "                                                    random_state=42)\n",
    "print(X_train.shape)\n",
    "print(X_test.shape)\n",
    "print(y_train.size)\n",
    "print(y_test.size)"
   ]
  },
  {
   "cell_type": "code",
   "execution_count": 8,
   "metadata": {
    "id": "CC-wuxAMJobq"
   },
   "outputs": [],
   "source": [
    "from tensorflow.keras import Sequential\n",
    "from tensorflow.keras.layers import Dense\n",
    "from tensorflow.keras.callbacks import EarlyStopping"
   ]
  },
  {
   "cell_type": "code",
   "execution_count": 9,
   "metadata": {
    "id": "zzardiqyJJFP"
   },
   "outputs": [],
   "source": [
    "## Create our model\n",
    "model = Sequential()\n",
    "\n",
    "model.add(Dense(8, input_dim=8, activation='relu'))\n",
    "model.add(Dense(8, activation='relu'))\n",
    "model.add(Dense(1, activation='sigmoid' ))"
   ]
  },
  {
   "cell_type": "code",
   "execution_count": 10,
   "metadata": {
    "id": "CF2NJvbnKCAF"
   },
   "outputs": [],
   "source": [
    "# Compile the model                                         \n",
    "model.compile(loss='binary_crossentropy', optimizer='adam',\n",
    "              metrics=['accuracy'])"
   ]
  },
  {
   "cell_type": "code",
   "execution_count": 11,
   "metadata": {
    "colab": {
     "base_uri": "https://localhost:8080/"
    },
    "id": "-tJaYKkOKO_F",
    "outputId": "f9c8d8a3-e3a2-403c-d6c3-6fb73a56318e",
    "scrolled": true
   },
   "outputs": [
    {
     "name": "stdout",
     "output_type": "stream",
     "text": [
      "Epoch 1/100\n",
      "77/77 [==============================] - 0s 3ms/step - loss: 14.0542 - accuracy: 0.6287 - val_loss: 4.0575 - val_accuracy: 0.5130\n",
      "Epoch 2/100\n",
      "77/77 [==============================] - 0s 2ms/step - loss: 2.4191 - accuracy: 0.6270 - val_loss: 2.9166 - val_accuracy: 0.6039\n",
      "Epoch 3/100\n",
      "77/77 [==============================] - 0s 2ms/step - loss: 1.7805 - accuracy: 0.6840 - val_loss: 2.3216 - val_accuracy: 0.6558\n",
      "Epoch 4/100\n",
      "77/77 [==============================] - 0s 2ms/step - loss: 1.4337 - accuracy: 0.7068 - val_loss: 1.8528 - val_accuracy: 0.7013\n",
      "Epoch 5/100\n",
      "77/77 [==============================] - 0s 2ms/step - loss: 1.2624 - accuracy: 0.7248 - val_loss: 1.7026 - val_accuracy: 0.7013\n",
      "Epoch 6/100\n",
      "77/77 [==============================] - 0s 2ms/step - loss: 1.1544 - accuracy: 0.7150 - val_loss: 1.6698 - val_accuracy: 0.6623\n",
      "Epoch 7/100\n",
      "77/77 [==============================] - 0s 1ms/step - loss: 1.0919 - accuracy: 0.7313 - val_loss: 1.3999 - val_accuracy: 0.7143\n",
      "Epoch 8/100\n",
      "77/77 [==============================] - 0s 2ms/step - loss: 1.0114 - accuracy: 0.7296 - val_loss: 1.3656 - val_accuracy: 0.6948\n",
      "Epoch 9/100\n",
      "77/77 [==============================] - 0s 1ms/step - loss: 0.9713 - accuracy: 0.7085 - val_loss: 1.2186 - val_accuracy: 0.7208\n",
      "Epoch 10/100\n",
      "77/77 [==============================] - 0s 1ms/step - loss: 0.9226 - accuracy: 0.7329 - val_loss: 1.1445 - val_accuracy: 0.7143\n",
      "Epoch 11/100\n",
      "77/77 [==============================] - 0s 1ms/step - loss: 0.8568 - accuracy: 0.7199 - val_loss: 1.0964 - val_accuracy: 0.7078\n",
      "Epoch 12/100\n",
      "77/77 [==============================] - 0s 1ms/step - loss: 0.8626 - accuracy: 0.7345 - val_loss: 1.1086 - val_accuracy: 0.6883\n",
      "Epoch 13/100\n",
      "77/77 [==============================] - 0s 1ms/step - loss: 0.8906 - accuracy: 0.6938 - val_loss: 1.0524 - val_accuracy: 0.6948\n",
      "Epoch 14/100\n",
      "77/77 [==============================] - 0s 1ms/step - loss: 0.8005 - accuracy: 0.7248 - val_loss: 0.9140 - val_accuracy: 0.7208\n",
      "Epoch 15/100\n",
      "77/77 [==============================] - 0s 1ms/step - loss: 0.7261 - accuracy: 0.7296 - val_loss: 0.8763 - val_accuracy: 0.7013\n",
      "Epoch 16/100\n",
      "77/77 [==============================] - 0s 1ms/step - loss: 0.6975 - accuracy: 0.7313 - val_loss: 0.8404 - val_accuracy: 0.7013\n",
      "Epoch 17/100\n",
      "77/77 [==============================] - 0s 1ms/step - loss: 0.6791 - accuracy: 0.7199 - val_loss: 0.8649 - val_accuracy: 0.6948\n",
      "Epoch 18/100\n",
      "77/77 [==============================] - 0s 1ms/step - loss: 0.6547 - accuracy: 0.7459 - val_loss: 0.7573 - val_accuracy: 0.7403\n",
      "Epoch 19/100\n",
      "77/77 [==============================] - 0s 1ms/step - loss: 0.6737 - accuracy: 0.7150 - val_loss: 0.8032 - val_accuracy: 0.7078\n",
      "Epoch 20/100\n",
      "77/77 [==============================] - 0s 1ms/step - loss: 0.6194 - accuracy: 0.7264 - val_loss: 0.7665 - val_accuracy: 0.7143\n",
      "Epoch 21/100\n",
      "77/77 [==============================] - 0s 1ms/step - loss: 0.6292 - accuracy: 0.7199 - val_loss: 0.7428 - val_accuracy: 0.6883\n",
      "Epoch 22/100\n",
      "77/77 [==============================] - 0s 1ms/step - loss: 0.6209 - accuracy: 0.7199 - val_loss: 0.7536 - val_accuracy: 0.6883\n",
      "Epoch 23/100\n",
      "77/77 [==============================] - 0s 1ms/step - loss: 0.6247 - accuracy: 0.7345 - val_loss: 1.2612 - val_accuracy: 0.5000\n",
      "Epoch 24/100\n",
      "77/77 [==============================] - 0s 1ms/step - loss: 0.6814 - accuracy: 0.7101 - val_loss: 0.7197 - val_accuracy: 0.7013\n",
      "Epoch 25/100\n",
      "77/77 [==============================] - 0s 1ms/step - loss: 0.5953 - accuracy: 0.7362 - val_loss: 0.6418 - val_accuracy: 0.7662\n",
      "Epoch 26/100\n",
      "77/77 [==============================] - 0s 1ms/step - loss: 0.5904 - accuracy: 0.7362 - val_loss: 0.6264 - val_accuracy: 0.7792\n",
      "Epoch 27/100\n",
      "77/77 [==============================] - 0s 1ms/step - loss: 0.5730 - accuracy: 0.7655 - val_loss: 0.8072 - val_accuracy: 0.6753\n",
      "Epoch 28/100\n",
      "77/77 [==============================] - 0s 2ms/step - loss: 0.5768 - accuracy: 0.7459 - val_loss: 0.6140 - val_accuracy: 0.7792\n",
      "Epoch 29/100\n",
      "77/77 [==============================] - 0s 1ms/step - loss: 0.5854 - accuracy: 0.7215 - val_loss: 0.8585 - val_accuracy: 0.6104\n",
      "Epoch 30/100\n",
      "77/77 [==============================] - 0s 1ms/step - loss: 0.5904 - accuracy: 0.7410 - val_loss: 0.6291 - val_accuracy: 0.7468\n",
      "Epoch 31/100\n",
      "77/77 [==============================] - 0s 1ms/step - loss: 0.6030 - accuracy: 0.7264 - val_loss: 0.6859 - val_accuracy: 0.7013\n",
      "Epoch 32/100\n",
      "77/77 [==============================] - 0s 1ms/step - loss: 0.5652 - accuracy: 0.7459 - val_loss: 0.6437 - val_accuracy: 0.7338\n",
      "Epoch 33/100\n",
      "77/77 [==============================] - 0s 1ms/step - loss: 0.6038 - accuracy: 0.7150 - val_loss: 0.6132 - val_accuracy: 0.7468\n",
      "Epoch 34/100\n",
      "77/77 [==============================] - 0s 1ms/step - loss: 0.5641 - accuracy: 0.7459 - val_loss: 0.5867 - val_accuracy: 0.7727\n",
      "Epoch 35/100\n",
      "77/77 [==============================] - 0s 1ms/step - loss: 0.5666 - accuracy: 0.7508 - val_loss: 0.6083 - val_accuracy: 0.7468\n",
      "Epoch 36/100\n",
      "77/77 [==============================] - 0s 1ms/step - loss: 0.6163 - accuracy: 0.7280 - val_loss: 0.8395 - val_accuracy: 0.6039\n",
      "Epoch 37/100\n",
      "77/77 [==============================] - 0s 1ms/step - loss: 0.6205 - accuracy: 0.7264 - val_loss: 0.5842 - val_accuracy: 0.7857\n",
      "Epoch 38/100\n",
      "77/77 [==============================] - 0s 2ms/step - loss: 0.5804 - accuracy: 0.7427 - val_loss: 0.5974 - val_accuracy: 0.7727\n",
      "Epoch 39/100\n",
      "77/77 [==============================] - 0s 1ms/step - loss: 0.6018 - accuracy: 0.7329 - val_loss: 0.6460 - val_accuracy: 0.7078\n"
     ]
    }
   ],
   "source": [
    "# Training\n",
    "es_call = EarlyStopping(monitor='loss', patience=5)\n",
    "\n",
    "hist = model.fit(X_train, y_train,\n",
    "                 validation_data=(X_test, y_test),\n",
    "                 epochs=100,\n",
    "                 batch_size=8,\n",
    "                 callbacks=[es_call])"
   ]
  },
  {
   "cell_type": "code",
   "execution_count": 12,
   "metadata": {
    "scrolled": false
   },
   "outputs": [],
   "source": [
    "#hist.history"
   ]
  },
  {
   "cell_type": "code",
   "execution_count": 13,
   "metadata": {},
   "outputs": [
    {
     "name": "stdout",
     "output_type": "stream",
     "text": [
      "WARNING:tensorflow:From <ipython-input-13-66f7fe571d01>:1: Sequential.predict_classes (from tensorflow.python.keras.engine.sequential) is deprecated and will be removed after 2021-01-01.\n",
      "Instructions for updating:\n",
      "Please use instead:* `np.argmax(model.predict(x), axis=-1)`,   if your model does multi-class classification   (e.g. if it uses a `softmax` last-layer activation).* `(model.predict(x) > 0.5).astype(\"int32\")`,   if your model does binary classification   (e.g. if it uses a `sigmoid` last-layer activation).\n"
     ]
    }
   ],
   "source": [
    "y_pred=model.predict_classes(X_test)"
   ]
  },
  {
   "cell_type": "code",
   "execution_count": 14,
   "metadata": {},
   "outputs": [
    {
     "data": {
      "text/plain": [
       "154"
      ]
     },
     "execution_count": 14,
     "metadata": {},
     "output_type": "execute_result"
    }
   ],
   "source": [
    "y_pred.size"
   ]
  },
  {
   "cell_type": "code",
   "execution_count": 15,
   "metadata": {},
   "outputs": [
    {
     "name": "stdout",
     "output_type": "stream",
     "text": [
      "precision_score test: 0.6785714285714286\n"
     ]
    }
   ],
   "source": [
    "from sklearn.metrics import precision_score\n",
    "scores1 = precision_score(y_test,y_pred)\n",
    "print('precision_score test: '+str(scores1))"
   ]
  },
  {
   "cell_type": "code",
   "execution_count": 16,
   "metadata": {},
   "outputs": [
    {
     "name": "stdout",
     "output_type": "stream",
     "text": [
      "recall_score test: 0.34545454545454546\n"
     ]
    }
   ],
   "source": [
    "from sklearn.metrics import recall_score\n",
    "scores2 = recall_score(y_test,y_pred)\n",
    "print('recall_score test: '+str(scores2))"
   ]
  },
  {
   "cell_type": "code",
   "execution_count": 17,
   "metadata": {
    "scrolled": false
   },
   "outputs": [
    {
     "name": "stdout",
     "output_type": "stream",
     "text": [
      "confusion matrix for test data: \n",
      "[[90  9]\n",
      " [36 19]]\n"
     ]
    }
   ],
   "source": [
    "from sklearn.metrics import confusion_matrix\n",
    "print('confusion matrix for test data: \\n'+ str(confusion_matrix(y_test,y_pred)))"
   ]
  },
  {
   "cell_type": "code",
   "execution_count": 18,
   "metadata": {},
   "outputs": [
    {
     "name": "stdout",
     "output_type": "stream",
     "text": [
      "              precision    recall  f1-score   support\n",
      "\n",
      "           0       0.71      0.91      0.80        99\n",
      "           1       0.68      0.35      0.46        55\n",
      "\n",
      "    accuracy                           0.71       154\n",
      "   macro avg       0.70      0.63      0.63       154\n",
      "weighted avg       0.70      0.71      0.68       154\n",
      "\n"
     ]
    },
    {
     "ename": "NameError",
     "evalue": "name 'accuracy_score' is not defined",
     "output_type": "error",
     "traceback": [
      "\u001b[1;31m---------------------------------------------------------------------------\u001b[0m",
      "\u001b[1;31mNameError\u001b[0m                                 Traceback (most recent call last)",
      "\u001b[1;32m<ipython-input-18-e17e55b800d0>\u001b[0m in \u001b[0;36m<module>\u001b[1;34m\u001b[0m\n\u001b[0;32m      1\u001b[0m \u001b[1;32mfrom\u001b[0m \u001b[0msklearn\u001b[0m\u001b[1;33m.\u001b[0m\u001b[0mmetrics\u001b[0m \u001b[1;32mimport\u001b[0m \u001b[0mclassification_report\u001b[0m\u001b[1;33m,\u001b[0m \u001b[0mroc_curve\u001b[0m\u001b[1;33m,\u001b[0m\u001b[0mroc_auc_score\u001b[0m\u001b[1;33m\u001b[0m\u001b[1;33m\u001b[0m\u001b[0m\n\u001b[0;32m      2\u001b[0m \u001b[0mprint\u001b[0m\u001b[1;33m(\u001b[0m\u001b[0mclassification_report\u001b[0m\u001b[1;33m(\u001b[0m\u001b[0my_test\u001b[0m\u001b[1;33m,\u001b[0m\u001b[0my_pred\u001b[0m\u001b[1;33m)\u001b[0m\u001b[1;33m)\u001b[0m\u001b[1;33m\u001b[0m\u001b[1;33m\u001b[0m\u001b[0m\n\u001b[1;32m----> 3\u001b[1;33m \u001b[0mprint\u001b[0m\u001b[1;33m(\u001b[0m\u001b[1;34m'accuracy_score: '\u001b[0m\u001b[1;33m+\u001b[0m \u001b[0mstr\u001b[0m\u001b[1;33m(\u001b[0m\u001b[0maccuracy_score\u001b[0m\u001b[1;33m(\u001b[0m\u001b[0my_test\u001b[0m\u001b[1;33m,\u001b[0m\u001b[0my_pred\u001b[0m\u001b[1;33m)\u001b[0m\u001b[1;33m)\u001b[0m\u001b[1;33m)\u001b[0m\u001b[1;33m\u001b[0m\u001b[1;33m\u001b[0m\u001b[0m\n\u001b[0m",
      "\u001b[1;31mNameError\u001b[0m: name 'accuracy_score' is not defined"
     ]
    }
   ],
   "source": [
    "from sklearn.metrics import classification_report, roc_curve,roc_auc_score\n",
    "print(classification_report(y_test,y_pred))\n",
    "print('accuracy_score: '+ str(accuracy_score(y_test,y_pred)))"
   ]
  },
  {
   "cell_type": "code",
   "execution_count": null,
   "metadata": {},
   "outputs": [],
   "source": [
    "from sklearn.metrics import classification_report, accuracy_score, roc_curve,roc_auc_score\n",
    "from matplotlib import pyplot\n",
    "\n",
    "\n",
    "# Compute predicted probabilities: y_pred_prob\n",
    "y_pred_prob = model.predict_proba(X_test)\n",
    "\n",
    "# Generate ROC curve values: fpr, tpr, thresholds\n",
    "fpr, tpr, thresholds = roc_curve(y_test, y_pred_prob)\n",
    "\n",
    "############ Plot ROC curve ############\n",
    "import matplotlib.pyplot as plt\n",
    "plt.plot([0, 1], [0, 1], 'k--')\n",
    "plt.plot(fpr, tpr)\n",
    "plt.xlabel('False Positive Rate')\n",
    "plt.ylabel('True Positive Rate')\n",
    "plt.title('ROC Curve')\n",
    "plt.show()\n",
    "########################################\n",
    "print('roc_auc_score: '+str(roc_auc_score(y_test,y_pred_prob)))"
   ]
  },
  {
   "cell_type": "code",
   "execution_count": null,
   "metadata": {
    "colab": {
     "base_uri": "https://localhost:8080/"
    },
    "id": "WV5Z6Vt3KhcW",
    "outputId": "7ed7e292-ee2d-4ca3-8efe-936f8fa7469e"
   },
   "outputs": [],
   "source": [
    "scores = model.evaluate(X_test, y_test, verbose=0)\n",
    "print(f\"Accuracy on test set: {scores[1]*100:.2f}%\")"
   ]
  },
  {
   "cell_type": "code",
   "execution_count": null,
   "metadata": {},
   "outputs": [],
   "source": [
    "# save the model to disk\n",
    "import os\n",
    "filename = r'finalized_model.sav'\n",
    "model.save(filename)"
   ]
  }
 ],
 "metadata": {
  "accelerator": "GPU",
  "colab": {
   "collapsed_sections": [],
   "name": "Q4_Deep_Learning.ipynb",
   "provenance": []
  },
  "kernelspec": {
   "display_name": "Python 3",
   "language": "python",
   "name": "python3"
  },
  "language_info": {
   "codemirror_mode": {
    "name": "ipython",
    "version": 3
   },
   "file_extension": ".py",
   "mimetype": "text/x-python",
   "name": "python",
   "nbconvert_exporter": "python",
   "pygments_lexer": "ipython3",
   "version": "3.7.3"
  }
 },
 "nbformat": 4,
 "nbformat_minor": 1
}
